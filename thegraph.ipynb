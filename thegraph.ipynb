{
 "metadata": {
  "language_info": {
   "codemirror_mode": {
    "name": "ipython",
    "version": 3
   },
   "file_extension": ".py",
   "mimetype": "text/x-python",
   "name": "python",
   "nbconvert_exporter": "python",
   "pygments_lexer": "ipython3",
   "version": "3.7.6"
  },
  "orig_nbformat": 4,
  "kernelspec": {
   "name": "python3",
   "display_name": "Python 3.7.6 64-bit ('base': conda)"
  },
  "interpreter": {
   "hash": "bfe330a1663cffbb25ea462cfa24b2cf724478f0fc8d158d8d536bd81b025399"
  }
 },
 "nbformat": 4,
 "nbformat_minor": 2,
 "cells": [
  {
   "cell_type": "code",
   "execution_count": 1,
   "metadata": {},
   "outputs": [],
   "source": [
    "import requests\n",
    "import pandas as pd\n",
    "from pprint import pprint"
   ]
  },
  {
   "source": [
    "# Question 1"
   ],
   "cell_type": "markdown",
   "metadata": {}
  },
  {
   "cell_type": "code",
   "execution_count": 2,
   "metadata": {},
   "outputs": [],
   "source": [
    "def run_query(q):\n",
    "    request = requests.post('https://api.thegraph.com/subgraphs/name/uniswap/uniswap-v2'\n",
    "                            '',\n",
    "                            json={'query': query})\n",
    "    if request.status_code == 200:\n",
    "        return request.json()\n",
    "    else:\n",
    "        raise Exception('Query failed. return code is {}.      {}'.format(request.status_code, query))"
   ]
  },
  {
   "cell_type": "code",
   "execution_count": 3,
   "metadata": {},
   "outputs": [],
   "source": [
    "# Since there are 1000 pairs in Uniswap v2, I have taken first 1000 pairs\n",
    "query = \"\"\"\n",
    "\n",
    "{\n",
    "  pairs(first:1000, orderBy:volumeUSD, orderDirection: desc) {\n",
    "    id\n",
    "    token0 {\n",
    "      symbol\n",
    "    }\n",
    "    token1 {\n",
    "      symbol\n",
    "    }\n",
    "    volumeToken0\n",
    "    volumeToken1\n",
    "    volumeUSD\n",
    "    reserveUSD\n",
    "    createdAtTimestamp\n",
    "  }\n",
    "}\n",
    "\"\"\"\n",
    "result = run_query(query)\n"
   ]
  },
  {
   "cell_type": "code",
   "execution_count": 4,
   "metadata": {},
   "outputs": [],
   "source": [
    "data = []\n",
    "for d in result['data']['pairs']:\n",
    "    entry = []\n",
    "    entry += [d['createdAtTimestamp']]\n",
    "    if(d['token0']['symbol']=='WETH'):\n",
    "        entry += ['Buy']\n",
    "    else:\n",
    "        entry += ['Sell']\n",
    "    entry += [d['volumeToken0']]\n",
    "    entry += [d['volumeToken1']]\n",
    "    entry += [d['volumeUSD']]\n",
    "    entry += [d['reserveUSD']]\n",
    "    entry += [d['id']]\n",
    "    data += [entry]"
   ]
  },
  {
   "cell_type": "code",
   "execution_count": 5,
   "metadata": {},
   "outputs": [
    {
     "output_type": "execute_result",
     "data": {
      "text/plain": [
       "    Timestamp  Side   Base Currency Quantity Traded  \\\n",
       "0  1588710145  Sell               28968316075.93534   \n",
       "1  1589850429   Buy     25294791.652186761577130402   \n",
       "2  1589164213  Sell  13359878985.090961624810847893   \n",
       "3  1617108509  Sell                         6887000   \n",
       "4  1617139810  Sell                         6887000   \n",
       "\n",
       "  Quote Currency Quantity Traded                          Volume(USD)  \\\n",
       "0    25428445.957789472315929541  28148301586.03088148507157692398825   \n",
       "1             28184939138.219677  27259753396.28834782902435816925784   \n",
       "2    14610718.961628853744310031  13423408989.03659066972801239950601   \n",
       "3       5990652.7371786815366923  11029715648.72159798743878461135205   \n",
       "4       5974779.3381845163122171  11017636252.92521755536995878068531   \n",
       "\n",
       "                   Liquidity in Pool(USD)  \\\n",
       "0     240555544.6013326460565655845445066   \n",
       "1     249256307.9993839356742301364254084   \n",
       "2     82645500.35488657281604062818123304   \n",
       "3  0.003420674944558147947322700984133829   \n",
       "4  0.003421464654088876732141029230008396   \n",
       "\n",
       "                                      Pool ID  \n",
       "0  0xb4e16d0168e52d35cacd2c6185b44281ec28c9dc  \n",
       "1  0x0d4a11d5eeaac28ec3f61d100daf4d40471f1852  \n",
       "2  0xa478c2975ab1ea89e8196811f51a7b7ade33eb11  \n",
       "3  0x23fe4ee3bd9bfd1152993a7954298bb4d426698f  \n",
       "4  0xe5ffe183ae47f1a0e4194618d34c5b05b98953a8  "
      ],
      "text/html": "<div>\n<style scoped>\n    .dataframe tbody tr th:only-of-type {\n        vertical-align: middle;\n    }\n\n    .dataframe tbody tr th {\n        vertical-align: top;\n    }\n\n    .dataframe thead th {\n        text-align: right;\n    }\n</style>\n<table border=\"1\" class=\"dataframe\">\n  <thead>\n    <tr style=\"text-align: right;\">\n      <th></th>\n      <th>Timestamp</th>\n      <th>Side</th>\n      <th>Base Currency Quantity Traded</th>\n      <th>Quote Currency Quantity Traded</th>\n      <th>Volume(USD)</th>\n      <th>Liquidity in Pool(USD)</th>\n      <th>Pool ID</th>\n    </tr>\n  </thead>\n  <tbody>\n    <tr>\n      <th>0</th>\n      <td>1588710145</td>\n      <td>Sell</td>\n      <td>28968316075.93534</td>\n      <td>25428445.957789472315929541</td>\n      <td>28148301586.03088148507157692398825</td>\n      <td>240555544.6013326460565655845445066</td>\n      <td>0xb4e16d0168e52d35cacd2c6185b44281ec28c9dc</td>\n    </tr>\n    <tr>\n      <th>1</th>\n      <td>1589850429</td>\n      <td>Buy</td>\n      <td>25294791.652186761577130402</td>\n      <td>28184939138.219677</td>\n      <td>27259753396.28834782902435816925784</td>\n      <td>249256307.9993839356742301364254084</td>\n      <td>0x0d4a11d5eeaac28ec3f61d100daf4d40471f1852</td>\n    </tr>\n    <tr>\n      <th>2</th>\n      <td>1589164213</td>\n      <td>Sell</td>\n      <td>13359878985.090961624810847893</td>\n      <td>14610718.961628853744310031</td>\n      <td>13423408989.03659066972801239950601</td>\n      <td>82645500.35488657281604062818123304</td>\n      <td>0xa478c2975ab1ea89e8196811f51a7b7ade33eb11</td>\n    </tr>\n    <tr>\n      <th>3</th>\n      <td>1617108509</td>\n      <td>Sell</td>\n      <td>6887000</td>\n      <td>5990652.7371786815366923</td>\n      <td>11029715648.72159798743878461135205</td>\n      <td>0.003420674944558147947322700984133829</td>\n      <td>0x23fe4ee3bd9bfd1152993a7954298bb4d426698f</td>\n    </tr>\n    <tr>\n      <th>4</th>\n      <td>1617139810</td>\n      <td>Sell</td>\n      <td>6887000</td>\n      <td>5974779.3381845163122171</td>\n      <td>11017636252.92521755536995878068531</td>\n      <td>0.003421464654088876732141029230008396</td>\n      <td>0xe5ffe183ae47f1a0e4194618d34c5b05b98953a8</td>\n    </tr>\n  </tbody>\n</table>\n</div>"
     },
     "metadata": {},
     "execution_count": 5
    }
   ],
   "source": [
    "df = pd.DataFrame(data,columns=['Timestamp','Side','Base Currency Quantity Traded','Quote Currency Quantity Traded','Volume(USD)','Liquidity in Pool(USD)','Pool ID'])\n",
    "df.head()"
   ]
  },
  {
   "cell_type": "code",
   "execution_count": 6,
   "metadata": {},
   "outputs": [],
   "source": [
    "df.to_csv(\"Uniswap_v2_Data.csv\")"
   ]
  },
  {
   "source": [
    "# Question 2"
   ],
   "cell_type": "markdown",
   "metadata": {}
  },
  {
   "cell_type": "code",
   "execution_count": null,
   "metadata": {},
   "outputs": [],
   "source": []
  }
 ]
}
{
 "metadata": {
  "language_info": {
   "codemirror_mode": {
    "name": "ipython",
    "version": 3
   },
   "file_extension": ".py",
   "mimetype": "text/x-python",
   "name": "python",
   "nbconvert_exporter": "python",
   "pygments_lexer": "ipython3",
   "version": "3.7.6"
  },
  "orig_nbformat": 4,
  "kernelspec": {
   "name": "python3",
   "display_name": "Python 3.7.6 64-bit ('base': conda)"
  },
  "interpreter": {
   "hash": "bfe330a1663cffbb25ea462cfa24b2cf724478f0fc8d158d8d536bd81b025399"
  }
 },
 "nbformat": 4,
 "nbformat_minor": 2,
 "cells": [
  {
   "cell_type": "code",
   "execution_count": 1,
   "metadata": {},
   "outputs": [],
   "source": [
    "import requests\n",
    "import pandas as pd\n",
    "from pprint import pprint\n",
    "from datetime import datetime"
   ]
  },
  {
   "source": [
    "# Question 1"
   ],
   "cell_type": "markdown",
   "metadata": {}
  },
  {
   "cell_type": "code",
   "execution_count": 2,
   "metadata": {},
   "outputs": [],
   "source": [
    "def run_query(q):\n",
    "    request = requests.post('https://api.thegraph.com/subgraphs/name/uniswap/uniswap-v2'\n",
    "                            '',\n",
    "                            json={'query': query})\n",
    "    if request.status_code == 200:\n",
    "        return request.json()\n",
    "    else:\n",
    "        raise Exception('Query failed. return code is {}.      {}'.format(request.status_code, query))"
   ]
  },
  {
   "cell_type": "code",
   "execution_count": 3,
   "metadata": {},
   "outputs": [],
   "source": [
    "# Since there are 1000 pairs in Uniswap v2, I have taken first 1000 pairs\n",
    "query = \"\"\"\n",
    "\n",
    "{\n",
    "  pairs(first:1000, orderBy:volumeUSD, orderDirection: desc) {\n",
    "    id\n",
    "    token0 {\n",
    "      symbol\n",
    "    }\n",
    "    token1 {\n",
    "      symbol\n",
    "    }\n",
    "    volumeToken0\n",
    "    volumeToken1\n",
    "    volumeUSD\n",
    "    reserveUSD\n",
    "    createdAtTimestamp\n",
    "  }\n",
    "}\n",
    "\"\"\"\n",
    "result = run_query(query)\n"
   ]
  },
  {
   "cell_type": "code",
   "execution_count": 4,
   "metadata": {},
   "outputs": [],
   "source": [
    "data = []\n",
    "for d in result['data']['pairs']:\n",
    "    entry = []\n",
    "    entry += [d['createdAtTimestamp']]\n",
    "    if(d['token0']['symbol']=='WETH'):\n",
    "        entry += ['Buy']\n",
    "    else:\n",
    "        entry += ['Sell']\n",
    "    entry += [d['volumeToken0']]\n",
    "    entry += [d['volumeToken1']]\n",
    "    entry += [d['volumeUSD']]\n",
    "    entry += [d['reserveUSD']]\n",
    "    entry += [d['id']]\n",
    "    data += [entry]"
   ]
  },
  {
   "cell_type": "code",
   "execution_count": 5,
   "metadata": {},
   "outputs": [
    {
     "output_type": "execute_result",
     "data": {
      "text/plain": [
       "    Timestamp  Side   Base Currency Quantity Traded  \\\n",
       "0  1588710145  Sell              28974494554.147588   \n",
       "1  1589850429   Buy     25298305.854627556547028127   \n",
       "2  1589164213  Sell  13361543014.600869552124044072   \n",
       "3  1617108509  Sell                         6887000   \n",
       "4  1617139810  Sell                         6887000   \n",
       "\n",
       "  Quote Currency Quantity Traded                          Volume(USD)  \\\n",
       "0    25431005.191172598728758197  28154479061.84185715652111613734895   \n",
       "1             28193419579.077131  27268235008.35183144865491179869749   \n",
       "2    14611407.048633018378400493  13425073038.58520517255982565845447   \n",
       "3       5990652.7371786815366923  11029715648.72159798743878461135205   \n",
       "4       5974779.3381845163122171  11017636252.92521755536995878068531   \n",
       "\n",
       "                   Liquidity in Pool(USD)  \\\n",
       "0     240823142.7009020489323228078451959   \n",
       "1     249519691.2799743102581785356207114   \n",
       "2     82786166.35600533390095470565067544   \n",
       "3  0.003420674944558147947322700984133829   \n",
       "4  0.003421464654088876732141029230008396   \n",
       "\n",
       "                                      Pool ID  \n",
       "0  0xb4e16d0168e52d35cacd2c6185b44281ec28c9dc  \n",
       "1  0x0d4a11d5eeaac28ec3f61d100daf4d40471f1852  \n",
       "2  0xa478c2975ab1ea89e8196811f51a7b7ade33eb11  \n",
       "3  0x23fe4ee3bd9bfd1152993a7954298bb4d426698f  \n",
       "4  0xe5ffe183ae47f1a0e4194618d34c5b05b98953a8  "
      ],
      "text/html": "<div>\n<style scoped>\n    .dataframe tbody tr th:only-of-type {\n        vertical-align: middle;\n    }\n\n    .dataframe tbody tr th {\n        vertical-align: top;\n    }\n\n    .dataframe thead th {\n        text-align: right;\n    }\n</style>\n<table border=\"1\" class=\"dataframe\">\n  <thead>\n    <tr style=\"text-align: right;\">\n      <th></th>\n      <th>Timestamp</th>\n      <th>Side</th>\n      <th>Base Currency Quantity Traded</th>\n      <th>Quote Currency Quantity Traded</th>\n      <th>Volume(USD)</th>\n      <th>Liquidity in Pool(USD)</th>\n      <th>Pool ID</th>\n    </tr>\n  </thead>\n  <tbody>\n    <tr>\n      <th>0</th>\n      <td>1588710145</td>\n      <td>Sell</td>\n      <td>28974494554.147588</td>\n      <td>25431005.191172598728758197</td>\n      <td>28154479061.84185715652111613734895</td>\n      <td>240823142.7009020489323228078451959</td>\n      <td>0xb4e16d0168e52d35cacd2c6185b44281ec28c9dc</td>\n    </tr>\n    <tr>\n      <th>1</th>\n      <td>1589850429</td>\n      <td>Buy</td>\n      <td>25298305.854627556547028127</td>\n      <td>28193419579.077131</td>\n      <td>27268235008.35183144865491179869749</td>\n      <td>249519691.2799743102581785356207114</td>\n      <td>0x0d4a11d5eeaac28ec3f61d100daf4d40471f1852</td>\n    </tr>\n    <tr>\n      <th>2</th>\n      <td>1589164213</td>\n      <td>Sell</td>\n      <td>13361543014.600869552124044072</td>\n      <td>14611407.048633018378400493</td>\n      <td>13425073038.58520517255982565845447</td>\n      <td>82786166.35600533390095470565067544</td>\n      <td>0xa478c2975ab1ea89e8196811f51a7b7ade33eb11</td>\n    </tr>\n    <tr>\n      <th>3</th>\n      <td>1617108509</td>\n      <td>Sell</td>\n      <td>6887000</td>\n      <td>5990652.7371786815366923</td>\n      <td>11029715648.72159798743878461135205</td>\n      <td>0.003420674944558147947322700984133829</td>\n      <td>0x23fe4ee3bd9bfd1152993a7954298bb4d426698f</td>\n    </tr>\n    <tr>\n      <th>4</th>\n      <td>1617139810</td>\n      <td>Sell</td>\n      <td>6887000</td>\n      <td>5974779.3381845163122171</td>\n      <td>11017636252.92521755536995878068531</td>\n      <td>0.003421464654088876732141029230008396</td>\n      <td>0xe5ffe183ae47f1a0e4194618d34c5b05b98953a8</td>\n    </tr>\n  </tbody>\n</table>\n</div>"
     },
     "metadata": {},
     "execution_count": 5
    }
   ],
   "source": [
    "df = pd.DataFrame(data,columns=['Timestamp','Side','Base Currency Quantity Traded','Quote Currency Quantity Traded','Volume(USD)','Liquidity in Pool(USD)','Pool ID'])\n",
    "df.head()"
   ]
  },
  {
   "cell_type": "code",
   "execution_count": 6,
   "metadata": {},
   "outputs": [],
   "source": [
    "df.to_csv(\"Uniswap_v2_Data.csv\")"
   ]
  },
  {
   "source": [
    "# Question 2"
   ],
   "cell_type": "markdown",
   "metadata": {}
  },
  {
   "cell_type": "code",
   "execution_count": 7,
   "metadata": {},
   "outputs": [
    {
     "output_type": "execute_result",
     "data": {
      "text/plain": [
       "['1589164213',\n",
       " 'Sell',\n",
       " '13361543014.600869552124044072',\n",
       " '14611407.048633018378400493',\n",
       " '13425073038.58520517255982565845447',\n",
       " '82786166.35600533390095470565067544',\n",
       " '0xa478c2975ab1ea89e8196811f51a7b7ade33eb11']"
      ]
     },
     "metadata": {},
     "execution_count": 7
    }
   ],
   "source": [
    "sorted_list = sorted(data)\n",
    "sorted_list[1]"
   ]
  },
  {
   "cell_type": "code",
   "execution_count": 8,
   "metadata": {},
   "outputs": [],
   "source": [
    "for i in range(0,len(sorted_list)):\n",
    "    sorted_list[i][0] = int(sorted_list[i][0])"
   ]
  },
  {
   "cell_type": "code",
   "execution_count": 9,
   "metadata": {},
   "outputs": [
    {
     "output_type": "stream",
     "name": "stdout",
     "text": [
      "[1588710145, 'Sell', '28974494554.147588', '25431005.191172598728758197', '28154479061.84185715652111613734895', '240823142.7009020489323228078451959', '0xb4e16d0168e52d35cacd2c6185b44281ec28c9dc', '06-05-20']\n"
     ]
    }
   ],
   "source": [
    "for i in range(0,len(sorted_list)):\n",
    "    sorted_list[i] += [datetime.fromtimestamp(sorted_list[i][0]).strftime('%d-%m-%y')]\n",
    "print(sorted_list[0])"
   ]
  },
  {
   "cell_type": "code",
   "execution_count": 10,
   "metadata": {},
   "outputs": [
    {
     "output_type": "stream",
     "name": "stdout",
     "text": [
      "[1623430292, 'Sell', '16463017218.590267493597143772', '22546.499327072200306558', '51946858.67171293005086929062020623', '327321.5891974882510909372153108307', '0x13bb5add7fd43c52d987e2c320f95d4b5e9cfa5f', '11-06-21']\n"
     ]
    }
   ],
   "source": [
    "print(sorted_list[999])"
   ]
  },
  {
   "cell_type": "code",
   "execution_count": 11,
   "metadata": {},
   "outputs": [],
   "source": [
    "data2 = []\n",
    "i = 0\n",
    "while(i<len(sorted_list)):\n",
    "    curr_date = sorted_list[i][7]\n",
    "    tot_buy = 0\n",
    "    num_buy = 0\n",
    "    tot_sell = 0\n",
    "    num_sell = 0\n",
    "    max_buy = 0\n",
    "    max_sell = 0\n",
    "    tot_liq = 0\n",
    "    eod = 0\n",
    "    if(sorted_list[i][1]=='Buy'):\n",
    "        eod = float(sorted_list[i][4])/float(sorted_list[i][2])\n",
    "    else:\n",
    "        eod = float(sorted_list[i][4])/float(sorted_list[i][3])\n",
    "    count = 1\n",
    "    while(i<len(sorted_list) and sorted_list[i][7]==curr_date):\n",
    "        tot_liq += float(sorted_list[i][5])\n",
    "        if(sorted_list[i][1]=='Buy'):\n",
    "            tot_buy += float(sorted_list[i][4])\n",
    "            num_buy += 1\n",
    "            if(max_buy < float(sorted_list[i][4])): max_buy = float(sorted_list[i][4])\n",
    "            eod = float(sorted_list[i][4])/float(sorted_list[i][2])\n",
    "        else:\n",
    "            tot_sell = float(sorted_list[i][4])\n",
    "            num_sell += 1\n",
    "            if(max_sell < float(sorted_list[i][4])): max_sell = float(sorted_list[i][4])\n",
    "            edo = float(sorted_list[i][4])/float(sorted_list[i][3])\n",
    "        i += 1\n",
    "    avg_buy = 0\n",
    "    if(num_buy!=0): avg_buy=tot_buy/num_buy\n",
    "    avg_sell = 0\n",
    "    if(num_sell!=0): avg_sell=tot_sell/num_sell\n",
    "    data2 += [[curr_date,avg_buy,avg_sell,max_buy,max_sell,tot_buy,tot_sell,tot_buy+tot_sell,eod,tot_liq/(num_buy+num_sell)]]"
   ]
  },
  {
   "cell_type": "code",
   "execution_count": 12,
   "metadata": {},
   "outputs": [
    {
     "output_type": "execute_result",
     "data": {
      "text/plain": [
       "       Date  Average Buy Size  , Average Sell Size  Max buy size  \\\n",
       "0  06-05-20      0.000000e+00         2.815448e+10  0.000000e+00   \n",
       "1  11-05-20      0.000000e+00         1.342507e+10  0.000000e+00   \n",
       "2  14-05-20      0.000000e+00         1.078807e+08  0.000000e+00   \n",
       "3  18-05-20      1.026675e+09         1.585262e+06  2.039238e+09   \n",
       "4  19-05-20      5.572017e+09         3.494759e+06  2.726824e+10   \n",
       "\n",
       "   Max sell size    Buy volume   sell volume  Total volume traded  \\\n",
       "0   2.815448e+10  0.000000e+00  2.815448e+10         2.815448e+10   \n",
       "1   1.342507e+10  0.000000e+00  1.342507e+10         1.342507e+10   \n",
       "2   3.722192e+08  0.000000e+00  2.157615e+08         2.157615e+08   \n",
       "3   7.930197e+09  2.053350e+09  1.585262e+07         2.069203e+09   \n",
       "4   1.389526e+09  2.786008e+10  1.048428e+08         2.796493e+10   \n",
       "\n",
       "    EOD Price in USD  Average Liquidity in Pool  \n",
       "0        1107.092655               2.408231e+08  \n",
       "1         918.807682               8.278617e+07  \n",
       "2           0.996064               9.357984e+06  \n",
       "3         436.798658               2.260220e+07  \n",
       "4        1077.868027               1.094623e+07  "
      ],
      "text/html": "<div>\n<style scoped>\n    .dataframe tbody tr th:only-of-type {\n        vertical-align: middle;\n    }\n\n    .dataframe tbody tr th {\n        vertical-align: top;\n    }\n\n    .dataframe thead th {\n        text-align: right;\n    }\n</style>\n<table border=\"1\" class=\"dataframe\">\n  <thead>\n    <tr style=\"text-align: right;\">\n      <th></th>\n      <th>Date</th>\n      <th>Average Buy Size</th>\n      <th>, Average Sell Size</th>\n      <th>Max buy size</th>\n      <th>Max sell size</th>\n      <th>Buy volume</th>\n      <th>sell volume</th>\n      <th>Total volume traded</th>\n      <th>EOD Price in USD</th>\n      <th>Average Liquidity in Pool</th>\n    </tr>\n  </thead>\n  <tbody>\n    <tr>\n      <th>0</th>\n      <td>06-05-20</td>\n      <td>0.000000e+00</td>\n      <td>2.815448e+10</td>\n      <td>0.000000e+00</td>\n      <td>2.815448e+10</td>\n      <td>0.000000e+00</td>\n      <td>2.815448e+10</td>\n      <td>2.815448e+10</td>\n      <td>1107.092655</td>\n      <td>2.408231e+08</td>\n    </tr>\n    <tr>\n      <th>1</th>\n      <td>11-05-20</td>\n      <td>0.000000e+00</td>\n      <td>1.342507e+10</td>\n      <td>0.000000e+00</td>\n      <td>1.342507e+10</td>\n      <td>0.000000e+00</td>\n      <td>1.342507e+10</td>\n      <td>1.342507e+10</td>\n      <td>918.807682</td>\n      <td>8.278617e+07</td>\n    </tr>\n    <tr>\n      <th>2</th>\n      <td>14-05-20</td>\n      <td>0.000000e+00</td>\n      <td>1.078807e+08</td>\n      <td>0.000000e+00</td>\n      <td>3.722192e+08</td>\n      <td>0.000000e+00</td>\n      <td>2.157615e+08</td>\n      <td>2.157615e+08</td>\n      <td>0.996064</td>\n      <td>9.357984e+06</td>\n    </tr>\n    <tr>\n      <th>3</th>\n      <td>18-05-20</td>\n      <td>1.026675e+09</td>\n      <td>1.585262e+06</td>\n      <td>2.039238e+09</td>\n      <td>7.930197e+09</td>\n      <td>2.053350e+09</td>\n      <td>1.585262e+07</td>\n      <td>2.069203e+09</td>\n      <td>436.798658</td>\n      <td>2.260220e+07</td>\n    </tr>\n    <tr>\n      <th>4</th>\n      <td>19-05-20</td>\n      <td>5.572017e+09</td>\n      <td>3.494759e+06</td>\n      <td>2.726824e+10</td>\n      <td>1.389526e+09</td>\n      <td>2.786008e+10</td>\n      <td>1.048428e+08</td>\n      <td>2.796493e+10</td>\n      <td>1077.868027</td>\n      <td>1.094623e+07</td>\n    </tr>\n  </tbody>\n</table>\n</div>"
     },
     "metadata": {},
     "execution_count": 12
    }
   ],
   "source": [
    "df2 = pd.DataFrame(data2,columns=['Date','Average Buy Size',', Average Sell Size','Max buy size','Max sell size',' Buy volume','sell volume','Total volume traded',' EOD Price in USD','Average Liquidity in Pool'])\n",
    "df2.head()"
   ]
  },
  {
   "cell_type": "code",
   "execution_count": 13,
   "metadata": {},
   "outputs": [],
   "source": [
    "df2.to_csv(\"Daily_Periodicity_Data.csv\")"
   ]
  },
  {
   "source": [],
   "cell_type": "markdown",
   "metadata": {}
  }
 ]
}
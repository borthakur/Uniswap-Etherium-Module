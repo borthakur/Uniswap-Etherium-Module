{
 "metadata": {
  "language_info": {
   "codemirror_mode": {
    "name": "ipython",
    "version": 3
   },
   "file_extension": ".py",
   "mimetype": "text/x-python",
   "name": "python",
   "nbconvert_exporter": "python",
   "pygments_lexer": "ipython3",
   "version": "3.7.6"
  },
  "orig_nbformat": 4,
  "kernelspec": {
   "name": "python3",
   "display_name": "Python 3.7.6 64-bit ('base': conda)"
  },
  "interpreter": {
   "hash": "bfe330a1663cffbb25ea462cfa24b2cf724478f0fc8d158d8d536bd81b025399"
  }
 },
 "nbformat": 4,
 "nbformat_minor": 2,
 "cells": [
  {
   "cell_type": "code",
   "execution_count": 1,
   "metadata": {},
   "outputs": [],
   "source": [
    "import requests\n",
    "import pandas as pd\n",
    "from pprint import pprint\n",
    "from datetime import datetime"
   ]
  },
  {
   "source": [
    "# Question 1"
   ],
   "cell_type": "markdown",
   "metadata": {}
  },
  {
   "cell_type": "code",
   "execution_count": 2,
   "metadata": {},
   "outputs": [],
   "source": [
    "def run_query(q):\n",
    "    request = requests.post('https://api.thegraph.com/subgraphs/name/uniswap/uniswap-v2'\n",
    "                            '',\n",
    "                            json={'query': query})\n",
    "    if request.status_code == 200:\n",
    "        return request.json()\n",
    "    else:\n",
    "        raise Exception('Query failed. return code is {}.      {}'.format(request.status_code, query))"
   ]
  },
  {
   "cell_type": "code",
   "execution_count": 3,
   "metadata": {},
   "outputs": [],
   "source": [
    "# Since there are 1000 pairs in Uniswap v2, I have taken first 1000 pairs\n",
    "query = \"\"\"\n",
    "\n",
    "{\n",
    "  pairs(first:1000, orderBy:volumeUSD, orderDirection: desc) {\n",
    "    id\n",
    "    token0 {\n",
    "      symbol\n",
    "    }\n",
    "    token1 {\n",
    "      symbol\n",
    "    }\n",
    "    volumeToken0\n",
    "    volumeToken1\n",
    "    volumeUSD\n",
    "    reserveUSD\n",
    "    createdAtTimestamp\n",
    "  }\n",
    "}\n",
    "\"\"\"\n",
    "result = run_query(query)\n"
   ]
  },
  {
   "cell_type": "code",
   "execution_count": 4,
   "metadata": {},
   "outputs": [],
   "source": [
    "data = []\n",
    "for d in result['data']['pairs']:\n",
    "    entry = []\n",
    "    entry += [d['createdAtTimestamp']]\n",
    "    if(d['token0']['symbol']=='WETH'):\n",
    "        entry += ['Buy']\n",
    "    else:\n",
    "        entry += ['Sell']\n",
    "    entry += [d['volumeToken0']]\n",
    "    entry += [d['volumeToken1']]\n",
    "    entry += [d['volumeUSD']]\n",
    "    entry += [d['reserveUSD']]\n",
    "    entry += [d['id']]\n",
    "    data += [entry]"
   ]
  },
  {
   "cell_type": "code",
   "execution_count": 5,
   "metadata": {},
   "outputs": [
    {
     "output_type": "execute_result",
     "data": {
      "text/plain": [
       "    Timestamp  Side   Base Currency Quantity Traded  \\\n",
       "0  1588710145  Sell              28974825630.377654   \n",
       "1  1589850429   Buy     25298544.934928105404078227   \n",
       "2  1589164213  Sell  13361583526.207608493522500126   \n",
       "3  1617108509  Sell                         6887000   \n",
       "4  1617139810  Sell                         6887000   \n",
       "\n",
       "  Quote Currency Quantity Traded                          Volume(USD)  \\\n",
       "0    25431141.695925610544352843  28154810073.04845193129088074253117   \n",
       "1             28194000365.358104  27268815019.43791320744057780517704   \n",
       "2    14611423.761381006457610958  13425113580.70306143793267926058707   \n",
       "3       5990652.7371786815366923  11029715648.72159798743878461135205   \n",
       "4       5974779.3381845163122171  11017636252.92521755536995878068531   \n",
       "\n",
       "                   Liquidity in Pool(USD)  \\\n",
       "0     241175775.7657381854660310679199567   \n",
       "1     249608035.2012703646332353936983076   \n",
       "2     82892242.07860243625731929486089278   \n",
       "3  0.003420674944558147947322700984133829   \n",
       "4  0.003421464654088876732141029230008396   \n",
       "\n",
       "                                      Pool ID  \n",
       "0  0xb4e16d0168e52d35cacd2c6185b44281ec28c9dc  \n",
       "1  0x0d4a11d5eeaac28ec3f61d100daf4d40471f1852  \n",
       "2  0xa478c2975ab1ea89e8196811f51a7b7ade33eb11  \n",
       "3  0x23fe4ee3bd9bfd1152993a7954298bb4d426698f  \n",
       "4  0xe5ffe183ae47f1a0e4194618d34c5b05b98953a8  "
      ],
      "text/html": "<div>\n<style scoped>\n    .dataframe tbody tr th:only-of-type {\n        vertical-align: middle;\n    }\n\n    .dataframe tbody tr th {\n        vertical-align: top;\n    }\n\n    .dataframe thead th {\n        text-align: right;\n    }\n</style>\n<table border=\"1\" class=\"dataframe\">\n  <thead>\n    <tr style=\"text-align: right;\">\n      <th></th>\n      <th>Timestamp</th>\n      <th>Side</th>\n      <th>Base Currency Quantity Traded</th>\n      <th>Quote Currency Quantity Traded</th>\n      <th>Volume(USD)</th>\n      <th>Liquidity in Pool(USD)</th>\n      <th>Pool ID</th>\n    </tr>\n  </thead>\n  <tbody>\n    <tr>\n      <th>0</th>\n      <td>1588710145</td>\n      <td>Sell</td>\n      <td>28974825630.377654</td>\n      <td>25431141.695925610544352843</td>\n      <td>28154810073.04845193129088074253117</td>\n      <td>241175775.7657381854660310679199567</td>\n      <td>0xb4e16d0168e52d35cacd2c6185b44281ec28c9dc</td>\n    </tr>\n    <tr>\n      <th>1</th>\n      <td>1589850429</td>\n      <td>Buy</td>\n      <td>25298544.934928105404078227</td>\n      <td>28194000365.358104</td>\n      <td>27268815019.43791320744057780517704</td>\n      <td>249608035.2012703646332353936983076</td>\n      <td>0x0d4a11d5eeaac28ec3f61d100daf4d40471f1852</td>\n    </tr>\n    <tr>\n      <th>2</th>\n      <td>1589164213</td>\n      <td>Sell</td>\n      <td>13361583526.207608493522500126</td>\n      <td>14611423.761381006457610958</td>\n      <td>13425113580.70306143793267926058707</td>\n      <td>82892242.07860243625731929486089278</td>\n      <td>0xa478c2975ab1ea89e8196811f51a7b7ade33eb11</td>\n    </tr>\n    <tr>\n      <th>3</th>\n      <td>1617108509</td>\n      <td>Sell</td>\n      <td>6887000</td>\n      <td>5990652.7371786815366923</td>\n      <td>11029715648.72159798743878461135205</td>\n      <td>0.003420674944558147947322700984133829</td>\n      <td>0x23fe4ee3bd9bfd1152993a7954298bb4d426698f</td>\n    </tr>\n    <tr>\n      <th>4</th>\n      <td>1617139810</td>\n      <td>Sell</td>\n      <td>6887000</td>\n      <td>5974779.3381845163122171</td>\n      <td>11017636252.92521755536995878068531</td>\n      <td>0.003421464654088876732141029230008396</td>\n      <td>0xe5ffe183ae47f1a0e4194618d34c5b05b98953a8</td>\n    </tr>\n  </tbody>\n</table>\n</div>"
     },
     "metadata": {},
     "execution_count": 5
    }
   ],
   "source": [
    "df = pd.DataFrame(data,columns=['Timestamp','Side','Base Currency Quantity Traded','Quote Currency Quantity Traded','Volume(USD)','Liquidity in Pool(USD)','Pool ID'])\n",
    "df.head()"
   ]
  },
  {
   "cell_type": "code",
   "execution_count": 6,
   "metadata": {},
   "outputs": [],
   "source": [
    "df.to_csv(\"Uniswap_v2_Data.csv\")"
   ]
  },
  {
   "source": [
    "# Question 2"
   ],
   "cell_type": "markdown",
   "metadata": {}
  },
  {
   "cell_type": "code",
   "execution_count": 7,
   "metadata": {},
   "outputs": [
    {
     "output_type": "execute_result",
     "data": {
      "text/plain": [
       "['1589164213',\n",
       " 'Sell',\n",
       " '13361583526.207608493522500126',\n",
       " '14611423.761381006457610958',\n",
       " '13425113580.70306143793267926058707',\n",
       " '82892242.07860243625731929486089278',\n",
       " '0xa478c2975ab1ea89e8196811f51a7b7ade33eb11']"
      ]
     },
     "metadata": {},
     "execution_count": 7
    }
   ],
   "source": [
    "sorted_list = sorted(data)\n",
    "sorted_list[1]"
   ]
  },
  {
   "cell_type": "code",
   "execution_count": 8,
   "metadata": {},
   "outputs": [],
   "source": [
    "for i in range(0,len(sorted_list)):\n",
    "    sorted_list[i][0] = int(sorted_list[i][0])"
   ]
  },
  {
   "cell_type": "code",
   "execution_count": 9,
   "metadata": {},
   "outputs": [
    {
     "output_type": "stream",
     "name": "stdout",
     "text": [
      "[1588710145, 'Sell', '28974825630.377654', '25431141.695925610544352843', '28154810073.04845193129088074253117', '241175775.7657381854660310679199567', '0xb4e16d0168e52d35cacd2c6185b44281ec28c9dc', '06-05-20']\n"
     ]
    }
   ],
   "source": [
    "for i in range(0,len(sorted_list)):\n",
    "    sorted_list[i] += [datetime.fromtimestamp(sorted_list[i][0]).strftime('%d-%m-%y')]\n",
    "print(sorted_list[0])"
   ]
  },
  {
   "cell_type": "code",
   "execution_count": 10,
   "metadata": {},
   "outputs": [
    {
     "output_type": "stream",
     "name": "stdout",
     "text": [
      "[1623430292, 'Sell', '16463017218.590267493597143772', '22546.499327072200306558', '51946858.67171293005086929062020623', '327321.5891974882510909372153108307', '0x13bb5add7fd43c52d987e2c320f95d4b5e9cfa5f', '11-06-21']\n"
     ]
    }
   ],
   "source": [
    "print(sorted_list[999])"
   ]
  },
  {
   "cell_type": "code",
   "execution_count": 11,
   "metadata": {},
   "outputs": [],
   "source": [
    "data2 = []\n",
    "i = 0\n",
    "while(i<len(sorted_list)):\n",
    "    curr_date = sorted_list[i][7]\n",
    "    tot_buy = 0\n",
    "    num_buy = 0\n",
    "    tot_sell = 0\n",
    "    num_sell = 0\n",
    "    max_buy = 0\n",
    "    max_sell = 0\n",
    "    tot_liq = 0\n",
    "    eod = 0\n",
    "    if(sorted_list[i][1]=='Buy'):\n",
    "        eod = float(sorted_list[i][4])/float(sorted_list[i][2])\n",
    "    else:\n",
    "        eod = float(sorted_list[i][4])/float(sorted_list[i][3])\n",
    "    count = 1\n",
    "    while(i<len(sorted_list) and sorted_list[i][7]==curr_date):\n",
    "        tot_liq += float(sorted_list[i][5])\n",
    "        if(sorted_list[i][1]=='Buy'):\n",
    "            tot_buy += float(sorted_list[i][4])\n",
    "            num_buy += 1\n",
    "            if(max_buy < float(sorted_list[i][4])): max_buy = float(sorted_list[i][4])\n",
    "            eod = float(sorted_list[i][4])/float(sorted_list[i][2])\n",
    "        else:\n",
    "            tot_sell = float(sorted_list[i][4])\n",
    "            num_sell += 1\n",
    "            if(max_sell < float(sorted_list[i][4])): max_sell = float(sorted_list[i][4])\n",
    "            edo = float(sorted_list[i][4])/float(sorted_list[i][3])\n",
    "        i += 1\n",
    "    avg_buy = 0\n",
    "    if(num_buy!=0): avg_buy=tot_buy/num_buy\n",
    "    avg_sell = 0\n",
    "    if(num_sell!=0): avg_sell=tot_sell/num_sell\n",
    "    data2 += [[curr_date,avg_buy,avg_sell,max_buy,max_sell,tot_buy,tot_sell,tot_buy+tot_sell,eod,tot_liq/(num_buy+num_sell)]]"
   ]
  },
  {
   "cell_type": "code",
   "execution_count": 12,
   "metadata": {},
   "outputs": [
    {
     "output_type": "execute_result",
     "data": {
      "text/plain": [
       "       Date  Average Buy Size  , Average Sell Size  Max buy size  \\\n",
       "0  06-05-20      0.000000e+00         2.815481e+10  0.000000e+00   \n",
       "1  11-05-20      0.000000e+00         1.342511e+10  0.000000e+00   \n",
       "2  14-05-20      0.000000e+00         1.078831e+08  0.000000e+00   \n",
       "3  18-05-20      1.026675e+09         1.585262e+06  2.039238e+09   \n",
       "4  19-05-20      5.572158e+09         3.494759e+06  2.726882e+10   \n",
       "\n",
       "   Max sell size    Buy volume   sell volume  Total volume traded  \\\n",
       "0   2.815481e+10  0.000000e+00  2.815481e+10         2.815481e+10   \n",
       "1   1.342511e+10  0.000000e+00  1.342511e+10         1.342511e+10   \n",
       "2   3.722192e+08  0.000000e+00  2.157662e+08         2.157662e+08   \n",
       "3   7.930283e+09  2.053350e+09  1.585262e+07         2.069203e+09   \n",
       "4   1.389527e+09  2.786079e+10  1.048428e+08         2.796563e+10   \n",
       "\n",
       "    EOD Price in USD  Average Liquidity in Pool  \n",
       "0        1107.099729               2.411758e+08  \n",
       "1         918.809406               8.289224e+07  \n",
       "2           0.996064               9.365344e+06  \n",
       "3         436.798658               2.266094e+07  \n",
       "4        1077.880767               1.094844e+07  "
      ],
      "text/html": "<div>\n<style scoped>\n    .dataframe tbody tr th:only-of-type {\n        vertical-align: middle;\n    }\n\n    .dataframe tbody tr th {\n        vertical-align: top;\n    }\n\n    .dataframe thead th {\n        text-align: right;\n    }\n</style>\n<table border=\"1\" class=\"dataframe\">\n  <thead>\n    <tr style=\"text-align: right;\">\n      <th></th>\n      <th>Date</th>\n      <th>Average Buy Size</th>\n      <th>, Average Sell Size</th>\n      <th>Max buy size</th>\n      <th>Max sell size</th>\n      <th>Buy volume</th>\n      <th>sell volume</th>\n      <th>Total volume traded</th>\n      <th>EOD Price in USD</th>\n      <th>Average Liquidity in Pool</th>\n    </tr>\n  </thead>\n  <tbody>\n    <tr>\n      <th>0</th>\n      <td>06-05-20</td>\n      <td>0.000000e+00</td>\n      <td>2.815481e+10</td>\n      <td>0.000000e+00</td>\n      <td>2.815481e+10</td>\n      <td>0.000000e+00</td>\n      <td>2.815481e+10</td>\n      <td>2.815481e+10</td>\n      <td>1107.099729</td>\n      <td>2.411758e+08</td>\n    </tr>\n    <tr>\n      <th>1</th>\n      <td>11-05-20</td>\n      <td>0.000000e+00</td>\n      <td>1.342511e+10</td>\n      <td>0.000000e+00</td>\n      <td>1.342511e+10</td>\n      <td>0.000000e+00</td>\n      <td>1.342511e+10</td>\n      <td>1.342511e+10</td>\n      <td>918.809406</td>\n      <td>8.289224e+07</td>\n    </tr>\n    <tr>\n      <th>2</th>\n      <td>14-05-20</td>\n      <td>0.000000e+00</td>\n      <td>1.078831e+08</td>\n      <td>0.000000e+00</td>\n      <td>3.722192e+08</td>\n      <td>0.000000e+00</td>\n      <td>2.157662e+08</td>\n      <td>2.157662e+08</td>\n      <td>0.996064</td>\n      <td>9.365344e+06</td>\n    </tr>\n    <tr>\n      <th>3</th>\n      <td>18-05-20</td>\n      <td>1.026675e+09</td>\n      <td>1.585262e+06</td>\n      <td>2.039238e+09</td>\n      <td>7.930283e+09</td>\n      <td>2.053350e+09</td>\n      <td>1.585262e+07</td>\n      <td>2.069203e+09</td>\n      <td>436.798658</td>\n      <td>2.266094e+07</td>\n    </tr>\n    <tr>\n      <th>4</th>\n      <td>19-05-20</td>\n      <td>5.572158e+09</td>\n      <td>3.494759e+06</td>\n      <td>2.726882e+10</td>\n      <td>1.389527e+09</td>\n      <td>2.786079e+10</td>\n      <td>1.048428e+08</td>\n      <td>2.796563e+10</td>\n      <td>1077.880767</td>\n      <td>1.094844e+07</td>\n    </tr>\n  </tbody>\n</table>\n</div>"
     },
     "metadata": {},
     "execution_count": 12
    }
   ],
   "source": [
    "df2 = pd.DataFrame(data2,columns=['Date','Average Buy Size',', Average Sell Size','Max buy size','Max sell size',' Buy volume','sell volume','Total volume traded',' EOD Price in USD','Average Liquidity in Pool'])\n",
    "df2.head()"
   ]
  },
  {
   "cell_type": "code",
   "execution_count": 13,
   "metadata": {},
   "outputs": [],
   "source": [
    "df2.to_csv(\"Daily_Periodicity_Data.csv\")"
   ]
  },
  {
   "source": [
    "# Some Plots"
   ],
   "cell_type": "markdown",
   "metadata": {}
  },
  {
   "cell_type": "code",
   "execution_count": 14,
   "metadata": {},
   "outputs": [],
   "source": [
    "y1 = []\n",
    "x = []\n",
    "for i in range(0,len(df2['Date'])):\n",
    "    y1 += [df2['Average Buy Size'][i]]\n",
    "    x += [df2['Date'][i]]  \n",
    "#x = [datetime.datetime.strptime(d,\"%d-%m-%Y\").date() for d in dates]"
   ]
  },
  {
   "cell_type": "code",
   "execution_count": 18,
   "metadata": {},
   "outputs": [
    {
     "output_type": "error",
     "ename": "ImportError",
     "evalue": "DLL load failed: The specified module could not be found.",
     "traceback": [
      "\u001b[1;31m---------------------------------------------------------------------------\u001b[0m",
      "\u001b[1;31mImportError\u001b[0m                               Traceback (most recent call last)",
      "\u001b[1;32m<ipython-input-18-a0d2faabd9e9>\u001b[0m in \u001b[0;36m<module>\u001b[1;34m\u001b[0m\n\u001b[1;32m----> 1\u001b[1;33m \u001b[1;32mimport\u001b[0m \u001b[0mmatplotlib\u001b[0m\u001b[1;33m.\u001b[0m\u001b[0mpyplot\u001b[0m \u001b[1;32mas\u001b[0m \u001b[0mplt\u001b[0m\u001b[1;33m\u001b[0m\u001b[1;33m\u001b[0m\u001b[0m\n\u001b[0m",
      "\u001b[1;32m~\\anaconda3\\lib\\site-packages\\matplotlib\\pyplot.py\u001b[0m in \u001b[0;36m<module>\u001b[1;34m\u001b[0m\n\u001b[0;32m   2354\u001b[0m     \u001b[0mdict\u001b[0m\u001b[1;33m.\u001b[0m\u001b[0m__setitem__\u001b[0m\u001b[1;33m(\u001b[0m\u001b[0mrcParams\u001b[0m\u001b[1;33m,\u001b[0m \u001b[1;34m\"backend\"\u001b[0m\u001b[1;33m,\u001b[0m \u001b[0mrcsetup\u001b[0m\u001b[1;33m.\u001b[0m\u001b[0m_auto_backend_sentinel\u001b[0m\u001b[1;33m)\u001b[0m\u001b[1;33m\u001b[0m\u001b[1;33m\u001b[0m\u001b[0m\n\u001b[0;32m   2355\u001b[0m \u001b[1;31m# Set up the backend.\u001b[0m\u001b[1;33m\u001b[0m\u001b[1;33m\u001b[0m\u001b[1;33m\u001b[0m\u001b[0m\n\u001b[1;32m-> 2356\u001b[1;33m \u001b[0mswitch_backend\u001b[0m\u001b[1;33m(\u001b[0m\u001b[0mrcParams\u001b[0m\u001b[1;33m[\u001b[0m\u001b[1;34m\"backend\"\u001b[0m\u001b[1;33m]\u001b[0m\u001b[1;33m)\u001b[0m\u001b[1;33m\u001b[0m\u001b[1;33m\u001b[0m\u001b[0m\n\u001b[0m\u001b[0;32m   2357\u001b[0m \u001b[1;33m\u001b[0m\u001b[0m\n\u001b[0;32m   2358\u001b[0m \u001b[1;31m# Just to be safe.  Interactive mode can be turned on without\u001b[0m\u001b[1;33m\u001b[0m\u001b[1;33m\u001b[0m\u001b[1;33m\u001b[0m\u001b[0m\n",
      "\u001b[1;32m~\\anaconda3\\lib\\site-packages\\matplotlib\\pyplot.py\u001b[0m in \u001b[0;36mswitch_backend\u001b[1;34m(newbackend)\u001b[0m\n\u001b[0;32m    219\u001b[0m         else \"matplotlib.backends.backend_{}\".format(newbackend.lower()))\n\u001b[0;32m    220\u001b[0m \u001b[1;33m\u001b[0m\u001b[0m\n\u001b[1;32m--> 221\u001b[1;33m     \u001b[0mbackend_mod\u001b[0m \u001b[1;33m=\u001b[0m \u001b[0mimportlib\u001b[0m\u001b[1;33m.\u001b[0m\u001b[0mimport_module\u001b[0m\u001b[1;33m(\u001b[0m\u001b[0mbackend_name\u001b[0m\u001b[1;33m)\u001b[0m\u001b[1;33m\u001b[0m\u001b[1;33m\u001b[0m\u001b[0m\n\u001b[0m\u001b[0;32m    222\u001b[0m     Backend = type(\n\u001b[0;32m    223\u001b[0m         \"Backend\", (matplotlib.backends._Backend,), vars(backend_mod))\n",
      "\u001b[1;32m~\\anaconda3\\lib\\importlib\\__init__.py\u001b[0m in \u001b[0;36mimport_module\u001b[1;34m(name, package)\u001b[0m\n\u001b[0;32m    125\u001b[0m                 \u001b[1;32mbreak\u001b[0m\u001b[1;33m\u001b[0m\u001b[1;33m\u001b[0m\u001b[0m\n\u001b[0;32m    126\u001b[0m             \u001b[0mlevel\u001b[0m \u001b[1;33m+=\u001b[0m \u001b[1;36m1\u001b[0m\u001b[1;33m\u001b[0m\u001b[1;33m\u001b[0m\u001b[0m\n\u001b[1;32m--> 127\u001b[1;33m     \u001b[1;32mreturn\u001b[0m \u001b[0m_bootstrap\u001b[0m\u001b[1;33m.\u001b[0m\u001b[0m_gcd_import\u001b[0m\u001b[1;33m(\u001b[0m\u001b[0mname\u001b[0m\u001b[1;33m[\u001b[0m\u001b[0mlevel\u001b[0m\u001b[1;33m:\u001b[0m\u001b[1;33m]\u001b[0m\u001b[1;33m,\u001b[0m \u001b[0mpackage\u001b[0m\u001b[1;33m,\u001b[0m \u001b[0mlevel\u001b[0m\u001b[1;33m)\u001b[0m\u001b[1;33m\u001b[0m\u001b[1;33m\u001b[0m\u001b[0m\n\u001b[0m\u001b[0;32m    128\u001b[0m \u001b[1;33m\u001b[0m\u001b[0m\n\u001b[0;32m    129\u001b[0m \u001b[1;33m\u001b[0m\u001b[0m\n",
      "\u001b[1;32m~\\anaconda3\\lib\\site-packages\\ipykernel\\pylab\\backend_inline.py\u001b[0m in \u001b[0;36m<module>\u001b[1;34m\u001b[0m\n\u001b[0;32m      7\u001b[0m \u001b[1;33m\u001b[0m\u001b[0m\n\u001b[0;32m      8\u001b[0m \u001b[1;32mimport\u001b[0m \u001b[0mmatplotlib\u001b[0m\u001b[1;33m\u001b[0m\u001b[1;33m\u001b[0m\u001b[0m\n\u001b[1;32m----> 9\u001b[1;33m from matplotlib.backends.backend_agg import (\n\u001b[0m\u001b[0;32m     10\u001b[0m     \u001b[0mnew_figure_manager\u001b[0m\u001b[1;33m,\u001b[0m\u001b[1;33m\u001b[0m\u001b[1;33m\u001b[0m\u001b[0m\n\u001b[0;32m     11\u001b[0m     \u001b[0mFigureCanvasAgg\u001b[0m\u001b[1;33m,\u001b[0m\u001b[1;33m\u001b[0m\u001b[1;33m\u001b[0m\u001b[0m\n",
      "\u001b[1;32m~\\anaconda3\\lib\\site-packages\\matplotlib\\backends\\backend_agg.py\u001b[0m in \u001b[0;36m<module>\u001b[1;34m\u001b[0m\n\u001b[0;32m     43\u001b[0m \u001b[1;33m\u001b[0m\u001b[0m\n\u001b[0;32m     44\u001b[0m \u001b[1;32mif\u001b[0m \u001b[0m_has_pil\u001b[0m\u001b[1;33m:\u001b[0m\u001b[1;33m\u001b[0m\u001b[1;33m\u001b[0m\u001b[0m\n\u001b[1;32m---> 45\u001b[1;33m     \u001b[1;32mfrom\u001b[0m \u001b[0mPIL\u001b[0m \u001b[1;32mimport\u001b[0m \u001b[0mImage\u001b[0m\u001b[1;33m\u001b[0m\u001b[1;33m\u001b[0m\u001b[0m\n\u001b[0m\u001b[0;32m     46\u001b[0m \u001b[1;33m\u001b[0m\u001b[0m\n\u001b[0;32m     47\u001b[0m \u001b[0mbackend_version\u001b[0m \u001b[1;33m=\u001b[0m \u001b[1;34m'v2.2'\u001b[0m\u001b[1;33m\u001b[0m\u001b[1;33m\u001b[0m\u001b[0m\n",
      "\u001b[1;32m~\\anaconda3\\lib\\site-packages\\PIL\\Image.py\u001b[0m in \u001b[0;36m<module>\u001b[1;34m\u001b[0m\n\u001b[0;32m     67\u001b[0m     \u001b[1;31m# Also note that Image.core is not a publicly documented interface,\u001b[0m\u001b[1;33m\u001b[0m\u001b[1;33m\u001b[0m\u001b[1;33m\u001b[0m\u001b[0m\n\u001b[0;32m     68\u001b[0m     \u001b[1;31m# and should be considered private and subject to change.\u001b[0m\u001b[1;33m\u001b[0m\u001b[1;33m\u001b[0m\u001b[1;33m\u001b[0m\u001b[0m\n\u001b[1;32m---> 69\u001b[1;33m     \u001b[1;32mfrom\u001b[0m \u001b[1;33m.\u001b[0m \u001b[1;32mimport\u001b[0m \u001b[0m_imaging\u001b[0m \u001b[1;32mas\u001b[0m \u001b[0mcore\u001b[0m\u001b[1;33m\u001b[0m\u001b[1;33m\u001b[0m\u001b[0m\n\u001b[0m\u001b[0;32m     70\u001b[0m \u001b[1;33m\u001b[0m\u001b[0m\n\u001b[0;32m     71\u001b[0m     \u001b[1;32mif\u001b[0m \u001b[0m__version__\u001b[0m \u001b[1;33m!=\u001b[0m \u001b[0mgetattr\u001b[0m\u001b[1;33m(\u001b[0m\u001b[0mcore\u001b[0m\u001b[1;33m,\u001b[0m \u001b[1;34m\"PILLOW_VERSION\"\u001b[0m\u001b[1;33m,\u001b[0m \u001b[1;32mNone\u001b[0m\u001b[1;33m)\u001b[0m\u001b[1;33m:\u001b[0m\u001b[1;33m\u001b[0m\u001b[1;33m\u001b[0m\u001b[0m\n",
      "\u001b[1;31mImportError\u001b[0m: DLL load failed: The specified module could not be found."
     ]
    }
   ],
   "source": [
    "import matplotlib.pyplot as plt"
   ]
  },
  {
   "cell_type": "code",
   "execution_count": 19,
   "metadata": {},
   "outputs": [
    {
     "output_type": "error",
     "ename": "AttributeError",
     "evalue": "module 'matplotlib' has no attribute 'pyplot'",
     "traceback": [
      "\u001b[1;31m---------------------------------------------------------------------------\u001b[0m",
      "\u001b[1;31mAttributeError\u001b[0m                            Traceback (most recent call last)",
      "\u001b[1;32m<ipython-input-19-cd689fc706f7>\u001b[0m in \u001b[0;36m<module>\u001b[1;34m\u001b[0m\n\u001b[0;32m      4\u001b[0m \u001b[1;31m#locator = mdates.DayLocator()\u001b[0m\u001b[1;33m\u001b[0m\u001b[1;33m\u001b[0m\u001b[1;33m\u001b[0m\u001b[0m\n\u001b[0;32m      5\u001b[0m \u001b[1;31m#ax.xaxis.set_major_locator(locator)\u001b[0m\u001b[1;33m\u001b[0m\u001b[1;33m\u001b[0m\u001b[1;33m\u001b[0m\u001b[0m\n\u001b[1;32m----> 6\u001b[1;33m \u001b[0mplt\u001b[0m\u001b[1;33m.\u001b[0m\u001b[0mpyplot\u001b[0m\u001b[1;33m.\u001b[0m\u001b[0mplot\u001b[0m\u001b[1;33m(\u001b[0m\u001b[0mx\u001b[0m\u001b[1;33m,\u001b[0m \u001b[0my1\u001b[0m\u001b[1;33m)\u001b[0m\u001b[1;33m\u001b[0m\u001b[1;33m\u001b[0m\u001b[0m\n\u001b[0m",
      "\u001b[1;31mAttributeError\u001b[0m: module 'matplotlib' has no attribute 'pyplot'"
     ]
    }
   ],
   "source": [
    "#ax = plt.pyplot.gca()\n",
    "#formatter = mdates.DateFormatter(\"%Y-%m-%d\")\n",
    "#ax.xaxis.set_major_formatter(formatter)\n",
    "#locator = mdates.DayLocator()\n",
    "#ax.xaxis.set_major_locator(locator)\n",
    "plt.plot(x, y1)"
   ]
  },
  {
   "cell_type": "code",
   "execution_count": null,
   "metadata": {},
   "outputs": [],
   "source": [
    " "
   ]
  }
 ]
}